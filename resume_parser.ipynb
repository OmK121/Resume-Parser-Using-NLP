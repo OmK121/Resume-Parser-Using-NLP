{
 "cells": [
  {
   "cell_type": "markdown",
   "metadata": {},
   "source": [
    "### Installations "
   ]
  },
  {
   "cell_type": "code",
   "execution_count": 2,
   "metadata": {},
   "outputs": [
    {
     "name": "stdout",
     "output_type": "stream",
     "text": [
      "Requirement already satisfied: spacy in c:\\users\\tejas\\anaconda3\\lib\\site-packages (3.5.1)\n",
      "Requirement already satisfied: cymem<2.1.0,>=2.0.2 in c:\\users\\tejas\\anaconda3\\lib\\site-packages (from spacy) (2.0.7)\n",
      "Requirement already satisfied: thinc<8.2.0,>=8.1.8 in c:\\users\\tejas\\anaconda3\\lib\\site-packages (from spacy) (8.1.9)\n",
      "Requirement already satisfied: setuptools in c:\\users\\tejas\\anaconda3\\lib\\site-packages (from spacy) (58.0.4)\n",
      "Requirement already satisfied: packaging>=20.0 in c:\\users\\tejas\\anaconda3\\lib\\site-packages (from spacy) (21.0)\n",
      "Requirement already satisfied: spacy-legacy<3.1.0,>=3.0.11 in c:\\users\\tejas\\anaconda3\\lib\\site-packages (from spacy) (3.0.12)\n",
      "Requirement already satisfied: jinja2 in c:\\users\\tejas\\anaconda3\\lib\\site-packages (from spacy) (2.11.3)\n",
      "Requirement already satisfied: langcodes<4.0.0,>=3.2.0 in c:\\users\\tejas\\anaconda3\\lib\\site-packages (from spacy) (3.3.0)\n",
      "Requirement already satisfied: pathy>=0.10.0 in c:\\users\\tejas\\anaconda3\\lib\\site-packages (from spacy) (0.10.1)\n",
      "Requirement already satisfied: wasabi<1.2.0,>=0.9.1 in c:\\users\\tejas\\anaconda3\\lib\\site-packages (from spacy) (1.1.1)\n",
      "Requirement already satisfied: smart-open<7.0.0,>=5.2.1 in c:\\users\\tejas\\anaconda3\\lib\\site-packages (from spacy) (6.3.0)\n",
      "Requirement already satisfied: tqdm<5.0.0,>=4.38.0 in c:\\users\\tejas\\anaconda3\\lib\\site-packages (from spacy) (4.62.3)\n",
      "Requirement already satisfied: spacy-loggers<2.0.0,>=1.0.0 in c:\\users\\tejas\\anaconda3\\lib\\site-packages (from spacy) (1.0.4)\n",
      "Requirement already satisfied: requests<3.0.0,>=2.13.0 in c:\\users\\tejas\\anaconda3\\lib\\site-packages (from spacy) (2.26.0)\n",
      "Requirement already satisfied: catalogue<2.1.0,>=2.0.6 in c:\\users\\tejas\\anaconda3\\lib\\site-packages (from spacy) (2.0.8)\n",
      "Requirement already satisfied: murmurhash<1.1.0,>=0.28.0 in c:\\users\\tejas\\anaconda3\\lib\\site-packages (from spacy) (1.0.9)\n",
      "Requirement already satisfied: srsly<3.0.0,>=2.4.3 in c:\\users\\tejas\\anaconda3\\lib\\site-packages (from spacy) (2.4.6)\n",
      "Requirement already satisfied: pydantic!=1.8,!=1.8.1,<1.11.0,>=1.7.4 in c:\\users\\tejas\\anaconda3\\lib\\site-packages (from spacy) (1.10.7)\n",
      "Requirement already satisfied: typer<0.8.0,>=0.3.0 in c:\\users\\tejas\\anaconda3\\lib\\site-packages (from spacy) (0.7.0)\n",
      "Requirement already satisfied: numpy>=1.15.0 in c:\\users\\tejas\\anaconda3\\lib\\site-packages (from spacy) (1.24.2)\n",
      "Requirement already satisfied: preshed<3.1.0,>=3.0.2 in c:\\users\\tejas\\anaconda3\\lib\\site-packages (from spacy) (3.0.8)\n",
      "Requirement already satisfied: pyparsing>=2.0.2 in c:\\users\\tejas\\anaconda3\\lib\\site-packages (from packaging>=20.0->spacy) (3.0.4)\n",
      "Requirement already satisfied: typing-extensions>=4.2.0 in c:\\users\\tejas\\anaconda3\\lib\\site-packages (from pydantic!=1.8,!=1.8.1,<1.11.0,>=1.7.4->spacy) (4.5.0)\n",
      "Requirement already satisfied: certifi>=2017.4.17 in c:\\users\\tejas\\anaconda3\\lib\\site-packages (from requests<3.0.0,>=2.13.0->spacy) (2021.10.8)\n",
      "Requirement already satisfied: charset-normalizer~=2.0.0 in c:\\users\\tejas\\anaconda3\\lib\\site-packages (from requests<3.0.0,>=2.13.0->spacy) (2.0.4)\n",
      "Requirement already satisfied: idna<4,>=2.5 in c:\\users\\tejas\\anaconda3\\lib\\site-packages (from requests<3.0.0,>=2.13.0->spacy) (3.2)\n",
      "Requirement already satisfied: urllib3<1.27,>=1.21.1 in c:\\users\\tejas\\anaconda3\\lib\\site-packages (from requests<3.0.0,>=2.13.0->spacy) (1.26.7)\n",
      "Requirement already satisfied: blis<0.8.0,>=0.7.8 in c:\\users\\tejas\\anaconda3\\lib\\site-packages (from thinc<8.2.0,>=8.1.8->spacy) (0.7.9)\n",
      "Requirement already satisfied: confection<1.0.0,>=0.0.1 in c:\\users\\tejas\\anaconda3\\lib\\site-packages (from thinc<8.2.0,>=8.1.8->spacy) (0.0.4)\n",
      "Requirement already satisfied: colorama in c:\\users\\tejas\\anaconda3\\lib\\site-packages (from tqdm<5.0.0,>=4.38.0->spacy) (0.4.6)\n",
      "Requirement already satisfied: click<9.0.0,>=7.1.1 in c:\\users\\tejas\\anaconda3\\lib\\site-packages (from typer<0.8.0,>=0.3.0->spacy) (8.0.3)\n",
      "Requirement already satisfied: MarkupSafe>=0.23 in c:\\users\\tejas\\anaconda3\\lib\\site-packages (from jinja2->spacy) (1.1.1)\n",
      "Requirement already satisfied: pdfminer.six in c:\\users\\tejas\\anaconda3\\lib\\site-packages (20221105)\n",
      "Requirement already satisfied: cryptography>=36.0.0 in c:\\users\\tejas\\anaconda3\\lib\\site-packages (from pdfminer.six) (40.0.1)\n",
      "Requirement already satisfied: charset-normalizer>=2.0.0 in c:\\users\\tejas\\anaconda3\\lib\\site-packages (from pdfminer.six) (2.0.4)\n",
      "Requirement already satisfied: cffi>=1.12 in c:\\users\\tejas\\anaconda3\\lib\\site-packages (from cryptography>=36.0.0->pdfminer.six) (1.14.6)\n",
      "Requirement already satisfied: pycparser in c:\\users\\tejas\\anaconda3\\lib\\site-packages (from cffi>=1.12->cryptography>=36.0.0->pdfminer.six) (2.20)\n",
      "Requirement already satisfied: nltk in c:\\users\\tejas\\anaconda3\\lib\\site-packages (3.6.5)\n",
      "Requirement already satisfied: click in c:\\users\\tejas\\anaconda3\\lib\\site-packages (from nltk) (8.0.3)\n",
      "Requirement already satisfied: joblib in c:\\users\\tejas\\anaconda3\\lib\\site-packages (from nltk) (1.1.0)\n",
      "Requirement already satisfied: regex>=2021.8.3 in c:\\users\\tejas\\anaconda3\\lib\\site-packages (from nltk) (2021.8.3)\n",
      "Requirement already satisfied: tqdm in c:\\users\\tejas\\anaconda3\\lib\\site-packages (from nltk) (4.62.3)\n",
      "Requirement already satisfied: colorama in c:\\users\\tejas\\anaconda3\\lib\\site-packages (from click->nltk) (0.4.6)\n"
     ]
    },
    {
     "name": "stderr",
     "output_type": "stream",
     "text": [
      "Traceback (most recent call last):\n",
      "  File \"C:\\Users\\tejas\\anaconda3\\lib\\site-packages\\urllib3\\connection.py\", line 174, in _new_conn\n",
      "    conn = connection.create_connection(\n",
      "  File \"C:\\Users\\tejas\\anaconda3\\lib\\site-packages\\urllib3\\util\\connection.py\", line 73, in create_connection\n",
      "    for res in socket.getaddrinfo(host, port, family, socket.SOCK_STREAM):\n",
      "  File \"C:\\Users\\tejas\\anaconda3\\lib\\socket.py\", line 954, in getaddrinfo\n",
      "    for res in _socket.getaddrinfo(host, port, family, type, proto, flags):\n",
      "socket.gaierror: [Errno 11001] getaddrinfo failed\n",
      "\n",
      "During handling of the above exception, another exception occurred:\n",
      "\n",
      "Traceback (most recent call last):\n",
      "  File \"C:\\Users\\tejas\\anaconda3\\lib\\site-packages\\urllib3\\connectionpool.py\", line 699, in urlopen\n",
      "    httplib_response = self._make_request(\n",
      "  File \"C:\\Users\\tejas\\anaconda3\\lib\\site-packages\\urllib3\\connectionpool.py\", line 382, in _make_request\n",
      "    self._validate_conn(conn)\n",
      "  File \"C:\\Users\\tejas\\anaconda3\\lib\\site-packages\\urllib3\\connectionpool.py\", line 1010, in _validate_conn\n",
      "    conn.connect()\n",
      "  File \"C:\\Users\\tejas\\anaconda3\\lib\\site-packages\\urllib3\\connection.py\", line 358, in connect\n",
      "    conn = self._new_conn()\n",
      "  File \"C:\\Users\\tejas\\anaconda3\\lib\\site-packages\\urllib3\\connection.py\", line 186, in _new_conn\n",
      "    raise NewConnectionError(\n",
      "urllib3.exceptions.NewConnectionError: <urllib3.connection.HTTPSConnection object at 0x0000025210E88EE0>: Failed to establish a new connection: [Errno 11001] getaddrinfo failed\n",
      "\n",
      "During handling of the above exception, another exception occurred:\n",
      "\n",
      "Traceback (most recent call last):\n",
      "  File \"C:\\Users\\tejas\\anaconda3\\lib\\site-packages\\requests\\adapters.py\", line 439, in send\n",
      "    resp = conn.urlopen(\n",
      "  File \"C:\\Users\\tejas\\anaconda3\\lib\\site-packages\\urllib3\\connectionpool.py\", line 755, in urlopen\n",
      "    retries = retries.increment(\n",
      "  File \"C:\\Users\\tejas\\anaconda3\\lib\\site-packages\\urllib3\\util\\retry.py\", line 574, in increment\n",
      "    raise MaxRetryError(_pool, url, error or ResponseError(cause))\n",
      "urllib3.exceptions.MaxRetryError: HTTPSConnectionPool(host='raw.githubusercontent.com', port=443): Max retries exceeded with url: /explosion/spacy-models/master/compatibility.json (Caused by NewConnectionError('<urllib3.connection.HTTPSConnection object at 0x0000025210E88EE0>: Failed to establish a new connection: [Errno 11001] getaddrinfo failed'))\n",
      "\n",
      "During handling of the above exception, another exception occurred:\n",
      "\n",
      "Traceback (most recent call last):\n",
      "  File \"C:\\Users\\tejas\\anaconda3\\lib\\runpy.py\", line 197, in _run_module_as_main\n",
      "    return _run_code(code, main_globals, None,\n",
      "  File \"C:\\Users\\tejas\\anaconda3\\lib\\runpy.py\", line 87, in _run_code\n",
      "    exec(code, run_globals)\n",
      "  File \"C:\\Users\\tejas\\anaconda3\\lib\\site-packages\\spacy\\__main__.py\", line 4, in <module>\n",
      "    setup_cli()\n",
      "  File \"C:\\Users\\tejas\\anaconda3\\lib\\site-packages\\spacy\\cli\\_util.py\", line 74, in setup_cli\n",
      "    command(prog_name=COMMAND)\n",
      "  File \"C:\\Users\\tejas\\anaconda3\\lib\\site-packages\\click\\core.py\", line 1128, in __call__\n",
      "    return self.main(*args, **kwargs)\n",
      "  File \"C:\\Users\\tejas\\anaconda3\\lib\\site-packages\\typer\\core.py\", line 778, in main\n",
      "    return _main(\n",
      "  File \"C:\\Users\\tejas\\anaconda3\\lib\\site-packages\\typer\\core.py\", line 216, in _main\n",
      "    rv = self.invoke(ctx)\n",
      "  File \"C:\\Users\\tejas\\anaconda3\\lib\\site-packages\\click\\core.py\", line 1659, in invoke\n",
      "    return _process_result(sub_ctx.command.invoke(sub_ctx))\n",
      "  File \"C:\\Users\\tejas\\anaconda3\\lib\\site-packages\\click\\core.py\", line 1395, in invoke\n",
      "    return ctx.invoke(self.callback, **ctx.params)\n",
      "  File \"C:\\Users\\tejas\\anaconda3\\lib\\site-packages\\click\\core.py\", line 754, in invoke\n",
      "    return __callback(*args, **kwargs)\n",
      "  File \"C:\\Users\\tejas\\anaconda3\\lib\\site-packages\\typer\\main.py\", line 683, in wrapper\n",
      "    return callback(**use_params)  # type: ignore\n",
      "  File \"C:\\Users\\tejas\\anaconda3\\lib\\site-packages\\spacy\\cli\\download.py\", line 36, in download_cli\n",
      "    download(model, direct, sdist, *ctx.args)\n",
      "  File \"C:\\Users\\tejas\\anaconda3\\lib\\site-packages\\spacy\\cli\\download.py\", line 70, in download\n",
      "    compatibility = get_compatibility()\n",
      "  File \"C:\\Users\\tejas\\anaconda3\\lib\\site-packages\\spacy\\cli\\download.py\", line 97, in get_compatibility\n",
      "    r = requests.get(about.__compatibility__)\n",
      "  File \"C:\\Users\\tejas\\anaconda3\\lib\\site-packages\\requests\\api.py\", line 75, in get\n",
      "    return request('get', url, params=params, **kwargs)\n",
      "  File \"C:\\Users\\tejas\\anaconda3\\lib\\site-packages\\requests\\api.py\", line 61, in request\n",
      "    return session.request(method=method, url=url, **kwargs)\n",
      "  File \"C:\\Users\\tejas\\anaconda3\\lib\\site-packages\\requests\\sessions.py\", line 542, in request\n",
      "    resp = self.send(prep, **send_kwargs)\n",
      "  File \"C:\\Users\\tejas\\anaconda3\\lib\\site-packages\\requests\\sessions.py\", line 655, in send\n",
      "    r = adapter.send(request, **kwargs)\n",
      "  File \"C:\\Users\\tejas\\anaconda3\\lib\\site-packages\\requests\\adapters.py\", line 516, in send\n",
      "    raise ConnectionError(e, request=request)\n",
      "requests.exceptions.ConnectionError: HTTPSConnectionPool(host='raw.githubusercontent.com', port=443): Max retries exceeded with url: /explosion/spacy-models/master/compatibility.json (Caused by NewConnectionError('<urllib3.connection.HTTPSConnection object at 0x0000025210E88EE0>: Failed to establish a new connection: [Errno 11001] getaddrinfo failed'))\n"
     ]
    }
   ],
   "source": [
    "!pip install spacy \n",
    "!pip install pdfminer.six\n",
    "!pip install nltk \n",
    "!python -m spacy download en_core_web_sm"
   ]
  },
  {
   "cell_type": "markdown",
   "metadata": {},
   "source": [
    "### Text from PDF"
   ]
  },
  {
   "cell_type": "code",
   "execution_count": 5,
   "metadata": {},
   "outputs": [],
   "source": [
    "from pdfminer.high_level import extract_text\n",
    "import spacy\n",
    "import re \n",
    "import numpy as np"
   ]
  },
  {
   "cell_type": "code",
   "execution_count": 6,
   "metadata": {},
   "outputs": [],
   "source": [
    "nlp = spacy.load(\"en_core_web_sm\")"
   ]
  },
  {
   "cell_type": "code",
   "execution_count": 7,
   "metadata": {},
   "outputs": [],
   "source": [
    "pdf_path = \"10712803.pdf\"\n",
    "# insert path \n",
    "text = extract_text(pdf_path)  # original text extracted  "
   ]
  },
  {
   "cell_type": "code",
   "execution_count": 8,
   "metadata": {},
   "outputs": [],
   "source": [
    "# applying nlp techs \n",
    "doc = nlp(text)"
   ]
  },
  {
   "cell_type": "markdown",
   "metadata": {},
   "source": [
    "### Extracting info "
   ]
  },
  {
   "cell_type": "code",
   "execution_count": 9,
   "metadata": {},
   "outputs": [],
   "source": [
    "info = {}"
   ]
  },
  {
   "cell_type": "code",
   "execution_count": null,
   "metadata": {},
   "outputs": [],
   "source": []
  },
  {
   "cell_type": "code",
   "execution_count": 23,
   "metadata": {},
   "outputs": [],
   "source": [
    "# Skills \n",
    "\n",
    "skills_db = ['technical skills', 'ajenti', 'django-suit', 'django-xadmin', 'flask-admin', 'flower', 'grappelli', 'wooey', 'algorithms', 'pypattyrn', 'python-patterns', 'sortedcontainers', 'django-simple-captcha', 'django-simple-spam-blocker', 'django-compressor', 'django-pipeline', 'django-storages', 'fanstatic', 'fileconveyor', 'flask-assets', 'jinja-assets-compressor', 'webassets', 'audiolazy', 'audioread', 'beets', 'dejavu', 'django-elastic-transcoder', 'eyed3', 'id3reader', 'm3u8', 'mingus', 'pyaudioanalysis', 'pydub', 'pyechonest', 'talkbox', 'timeside', 'tinytag', 'authomatic', 'django-allauth', 'django-oauth-toolkit', 'flask-oauthlib', 'oauthlib', 'python-oauth2', 'python-social-auth', 'rauth', 'sanction', 'jose', 'pyjwt', 'python-jws', 'python-jwt', 'bitbake', 'buildout', 'platformio', 'pybuilder', 'scons', 'django-cms', 'djedi-cms', 'feincms', 'kotti', 'mezzanine', 'opps', 'plone', 'quokka', 'wagtail', 'widgy', 'beaker', 'diskcache', 'django-cache-machine', 'django-cacheops', 'django-viewlet', 'dogpile.cache', 'hermescache', 'johnny-cache', 'pylibmc', 'errbot', 'coala', 'code2flow', 'pycallgraph', 'flake8', 'pylama', 'pylint', 'mypy', 'asciimatics', 'cement', 'click', 'cliff', 'clint', 'colorama', 'docopt', 'gooey', 'python-fire', 'python-prompt-toolkit', 'aws-cli', 'bashplotlib', 'caniusepython3', 'cookiecutter', 'doitlive', 'howdoi', 'httpie', 'mycli', 'pathpicker', 'percol', 'pgcli', 'saws', 'thefuck', 'try', 'python-future', 'python-modernize', 'six', 'opencv', 'pyocr', 'pytesseract', 'simplecv', 'eventlet', 'gevent', 'multiprocessing', 'threading', 'tomorrow', 'uvloop', 'config', 'configobj', 'configparser', 'profig', 'python-decouple', 'cryptography', 'hashids', 'paramiko', 'passlib', 'pynacl', 'blaze', 'orange', 'pandas', 'cerberus', 'colander', 'jsonschema', 'schematics', 'valideer', 'voluptuous', 'altair', 'bokeh', 'ggplot', 'matplotlib', 'pygal', 'pygraphviz', 'pyqtgraph', 'seaborn', 'vispy', 'pickledb', 'pipelinedb', 'tinydb', 'zodb', 'mysql', 'mysql-python', 'mysqlclient', 'oursql', 'pymysql', 'postgresql', 'psycopg2', 'queries', 'txpostgres', 'apsw', 'pymssql', 'nosql', 'cassandra-python-driver', 'happybase', 'plyvel', 'py2neo', 'pycassa', 'pymongo', 'redis-py', 'telephus', 'txredis', 'arrow', 'chronyk', 'dateutil', 'delorean', 'moment', 'pendulum', 'pytime', 'pytz', 'when.py', 'ipdb', 'pdb++', 'pudb', 'remote-pdb', 'wdb', 'line_profiler', 'memory_profiler', 'profiling', 'vprof', 'caffe', 'keras', 'mxnet', 'neupy', 'pytorch', 'tensorflow', 'theano', 'ansible', 'cloud-init', 'cuisine', 'docker', 'fabric', 'fabtools', 'honcho', 'openstack', 'pexpect', 'psutil', 'saltstack', 'supervisor', 'dh-virtualenv', 'nuitka', 'py2app', 'py2exe', 'pyinstaller', 'pynsist', 'sphinx', 'awesome-sphinxdoc', 'mkdocs', 'pdoc', 'pycco', 's3cmd', 's4cmd', 'you-get', 'youtube-dl', 'alipay', 'cartridge', 'django-oscar', 'django-shop', 'merchant', 'money', 'python-currencies', 'forex-python', 'shoop', 'emacs', 'elpy', 'sublime', 'anaconda', 'sublimejedi', 'vim', 'jedi-vim', 'python-mode', 'youcompleteme', 'ptvs', 'visual', 'python', 'magic', 'liclipse', 'pycharm', 'spyder', 'envelopes', 'flanker', 'imbox', 'inbox.py', 'lamson', 'marrow', 'modoboa', 'nylas', 'yagmail', 'pipenv', 'p', 'pyenv', 'venv', 'virtualenv', 'virtualenvwrapper', 'imghdr', 'mimetypes', 'path.py', 'pathlib', 'python-magic', 'unipath', 'watchdog', 'cffi', 'ctypes', 'pycuda', 'swig', 'deform', 'django-bootstrap3', 'django-crispy-forms', 'django-remote-forms', 'wtforms', 'cytoolz', 'fn.py', 'funcy', 'toolz', 'curses', 'enaml', 'flexx', 'kivy', 'pyglet', 'pygobject', 'pyqt', 'pyside', 'pywebview', 'tkinter', 'toga', 'urwid', 'wxpython', 'cocos2d', 'panda3d', 'pygame', 'pyogre', 'pyopengl', 'pysdl2', 'renpy', 'django-countries', 'geodjango', 'geoip', 'geojson', 'geopy', 'pygeoip', 'beautifulsoup', 'bleach', 'cssutils', 'html5lib', 'lxml', 'markupsafe', 'pyquery', 'untangle', 'weasyprint', 'xmldataset', 'xmltodict', 'grequests', 'httplib2', 'requests', 'treq', 'urllib3', 'ino', 'keyboard', 'mouse', 'pingo', 'pyro', 'pyuserinput', 'scapy', 'wifi', 'hmap', 'imgseek', 'nude.py', 'pagan', 'pillow', 'pybarcode', 'pygram', 'python-qrcode', 'quads', 'scikit-image', 'thumbor', 'wand', 'clpython', 'cpython', 'cython', 'grumpy', 'ironpython', 'jython', 'micropython', 'numba', 'peachpy', 'pyjion', 'pypy', 'pysec', 'pyston', 'stackless', 'interactive', 'bpython', 'jupyter', 'ptpython', 'babel', 'pyicu', 'apscheduler', 'django-schedule', 'doit', 'gunnery', 'joblib', 'plan', 'schedule', 'spiff', 'taskflow', 'eliot', 'logbook', 'logging', 'sentry', 'metrics', 'nupic', 'scikit-learn', 'spark', 'vowpal_porpoise', 'xgboost', 'pyspark', 'luigi', 'mrjob', 'streamparse', 'dask', 'python(x', 'y)', 'pythonlibs', 'pythonnet', 'pywin32', 'winpython', 'gensim', 'jieba', 'langid.py', 'nltk', 'pattern', 'polyglot', 'snownlp', 'spacy', 'textblob', 'mininet', 'pox', 'pyretic', 'sdx', 'asyncio', 'diesel', 'pulsar', 'pyzmq', 'twisted', 'txzmq', 'napalm', 'django-activity-stream', 'stream-framework', 'django', 'sqlalchemy', 'awesome-sqlalchemy', 'orator', 'peewee', 'ponyorm', 'pydal', 'python-sql', 'pip', 'conda', 'curdling', 'pip-tools', 'wheel', 'warehouse', 'bandersnatch', 'devpi', 'localshop', 'carteblanche', 'django-guardian', 'django-rules', 'delegator.py subprocesses for', 'sarge', 'sh', 'celery', 'huey', 'mrq', 'rq', 'simpleq', 'annoy', 'fastfm', 'implicit', 'libffm', 'lightfm', 'surprise', 'tensorrec', 'django-rest-framework', 'django-tastypie', 'flask', 'eve', 'flask-api-utils', 'flask-api', 'flask-restful', 'flask-restless', 'pyramid', 'cornice', 'falcon', 'hug', 'restless', 'ripozo', 'sandman', 'apistar', 'simplejsonrpcserver', 'simplexmlrpcserver', 'zerorpc', 'astropy', 'bcbio-nextgen', 'bccb', 'biopython', 'cclib', 'networkx', 'nipy', 'numpy', 'obspy', 'pydy', 'pymc', 'rdkit', 'scipy', 'statsmodels', 'sympy', 'zipline', 'simpy', 'django-haystack', 'elasticsearch-dsl-py', 'elasticsearch-py', 'esengine', 'pysolr', 'solrpy', 'whoosh', 'marshmallow', 'apex', 'python-lambda', 'zappa', 'tablib', 'marmir', 'openpyxl', 'pyexcel', 'python-docx', 'relatorio', 'unoconv', 'xlsxwriter', 'xlwings', 'xlwt / xlrd', 'pdf', 'pdfminer', 'pypdf2', 'reportlab', 'markdown', 'mistune', 'python-markdown', 'yaml', 'pyyaml', 'csvkit', 'unp', 'cactus', 'hyde', 'lektor', 'nikola', 'pelican', 'tinkerer', 'django-taggit', 'genshi', 'jinja2', 'mako', 'hypothesis', 'mamba', 'nose', 'nose2', 'pytest', 'robot', 'unittest', 'green', 'tox', 'locust', 'pyautogui', 'selenium', 'sixpack', 'splinter', 'doublex', 'freezegun', 'httmock', 'httpretty', 'mock', 'responses', 'vcr.py', 'factory_boy', 'mixer', 'model_mommy', 'mimesis', 'fake2db', 'faker', 'radar', 'chardet', 'difflib', 'ftfy', 'fuzzywuzzy', 'levenshtein', 'pangu.py', 'pyfiglet', 'pypinyin', 'shortuuid', 'unidecode', 'uniout', 'xpinyin', 'slugify', 'awesome-slugify', 'python-slugify', 'unicode-slugify', 'parser', 'phonenumbers', 'ply', 'pygments', 'pyparsing', 'python-nameparser', 'python-user-agents', 'sqlparse', 'apache-libcloud', 'boto3', 'django-wordpress', 'facebook-sdk', 'facepy', 'gmail', 'google-api-python-client', 'gspread', 'twython', 'furl', 'purl', 'pyshorteners', 'short_url', 'webargs', 'moviepy', 'scikit-video', 'wsgi-compatible', 'bjoern', 'fapws3', 'gunicorn', 'meinheld', 'netius', 'paste', 'rocket', 'uwsgi', 'waitress', 'werkzeug', 'haul', 'html2text', 'lassie', 'micawber', 'newspaper', 'opengraph', 'python-goose', 'python-readability', 'sanitize', 'sumy', 'textract', 'cola', 'demiurge', 'feedparser', 'grab', 'mechanicalsoup', 'portia', 'pyspider', 'robobrowser', 'scrapy', 'bottle', 'cherrypy', 'awesome-django', 'awesome-flask', 'awesome-pyramid', 'sanic', 'tornado', 'turbogears', 'web2py', 'github', 'autobahnpython', 'crossbar', 'django-socketio', 'websocket-for-python', 'javascript', 'php', 'c#', 'c++', 'ruby', 'css', 'c', 'objective-c', 'shell', 'scala', 'swift', 'matlab', 'clojure', 'octave', 'machine learning', 'data analytics', 'predictive analytics', 'html', 'js', 'accounts payable', 'receivables', 'inventory controls', 'payroll', 'deposits', 'bank reconciliation', 'planning and enacting cash-flows', 'report preparation', 'financial models', 'financial controls', 'documentation', 'time management', 'schedules', 'benchmarking', 'future state assessment', 'business process re-engineering', 'as-is analysis', 'defining solutions and scope', 'gap analysis', 'role change', 'wireframing', 'prototyping', 'user stories', 'financial analysis/modeling', 'swot analysis', 'quickbooks', 'quicken', 'erp', 'enterprise resource planning', 'spanish', 'german', 'rest', 'soap', 'json', 'website', 'ui', 'ux', 'design', 'crm', 'cms', 'communication', 'coding', 'windows', 'servers', 'unix', 'linux', 'redhat', 'solaris', 'java', 'perl', 'vb script', 'xml', 'database', 'oracle', 'microsoft sql', 'sql', 'microsoft word', 'microsoft powerpoint', 'powerpoint', 'word', 'excel', 'visio', 'microsoft visio', 'microsoft excel', 'adobe', 'photoshop', 'hadoop', 'hbase', 'hive', 'zookeeper', 'openserver', 'auto cad', 'pl/sql', 'ruby on rails', 'asp', 'jsp', 'operations', 'technical', 'training', 'sales', 'marketing', 'reporting', 'compliance', 'strategy', 'research', 'analytical', 'engineering', 'policies', 'budget', 'finance', 'project management', 'health', 'customer service', 'content', 'presentation', 'brand', 'presentations', 'safety', 'certification', 'seo', 'digital marketing', 'accounting', 'regulations', 'legal', 'engagement', 'analytics', 'distribution', 'coaching', 'testing', 'vendors', 'consulting', 'writing', 'contracts', 'inventory', 'retail', 'healthcare', 'regulatory', 'scheduling', 'construction', 'logistics', 'mobile', 'cï¿½(programming language)', 'correspondence', 'controls', 'human resources', 'specifications', 'recruitment', 'procurement', 'partnership', 'partnerships', 'management experience', 'negotiation', 'hardware', 'programming', 'agile', 'forecasting', 'advertising', 'business development', 'audit', 'architecture', 'supply chain', 'governance', 'staffing', 'continuous improvement', 'product development', 'networking', 'recruiting', 'product management', 'sap', 'troubleshooting', 'computer science', 'budgeting', 'electrical', 'customer experience', 'economics', 'information technology', 'transportation', 'social media', 'automation', 'lifecycle', 'filing', 'modeling', 'investigation', 'editing', 'purchasing', 'kpis', 'hospital', 'forecasts', 'acquisition', 'expenses', 'billing', 'workflow', 'product owner', 'analyze', 'cross functional', 'business process', 'process', 'improvement', 'pivot tables', 'pivot', 'vlookups', 'sharepoint', 'microsoft sharepoint', 'access database', 'access', 'test case', 'jira', 'tfs', 'hp alm', 'tableau', 'business object', 'business intelligence', 'jad', 'solicitation', 'kaban', 'vue.js', 'sketch', 'indesign', 'illustrator', 'english', 'french', 'active directory', 'data center', 'solution architecture', 'dns', 'network design', 'open source', 'desktop support', 'application support', 'administration', 'change management', 'video', 'invoices', 'administrative support', 'payments', 'lean', 'process improvement', 'installation', 'risk management', 'transactions', 'investigations', 'r (programming language)', 'data analysis', 'statistics', 'protocols', 'program management', 'quality assurance', 'banking', 'outreach', 'sourcing', 'microsoft office', 'merchandising', 'r', 'teaching', 'pharmaceutical', 'fulfillment', 'positioning', 'tax', 'service delivery', 'investigate', 'editorial', 'account management', 'valid drivers license', 'electronics', 'pr', 'public relations', 'assembly', 'facebook', 'spreadsheets', 'recruit', 'proposal', 'data entry', 'hotel', 'ordering', 'branding', 'life cycle', 'real estate', 'relationship management', 'researching', 'process improvements', 'chemistry', 'saas', 'cad', 'sales experience', 'mathematics', 'customer-facing', 'audio', 'project management skills', 'six sigma', 'hospitality', 'mechanical engineering', 'auditing', 'employee relations', 'android', 'security clearance', 'licensing', 'fundraising', 'repairs', 'iso', 'market research', 'business strategy', 'pmp', 'data management', 'quality control', 'reconciliation', 'conversion', 'business analysis', 'financial analysis', 'ecommerce', 'client service', 'publishing', 'supervising', 'complex projects', 'key performance indicators', 'scrum', 'sports', 'e-commerce', 'journalism', 'd (programming language)', 'data collection', 'higher education', 'marketing programs', 'financial management', 'business plans', 'user experience', 'client relationships', 'cloud', 'analytical skills', 'cisco', 'internal stakeholders', 'product marketing', 'regulatory requirements', 'itil', 'information security', 'aviation', 'supply chain management', 'industry experience', 'autocad', 'purchase orders', 'acquisitions', 'tv', 'instrumentation', 'strategic direction', 'law enforcement', 'call center', 'experiments', 'technical skills', 'human resource', 'business cases', 'build relationships', 'invoicing', 'support services', 'marketing strategy', 'operating systems', 'biology', 'start-up', 'electrical engineering', 'workflows', 'routing', 'non-profit', 'marketing plans', 'due diligence', 'business management', 'iphone', 'architectures', 'reconcile', 'dynamic environment', 'external partners', 'asset management', 'emea', 'intranet', 'sops', 'sas', 'digital media', 'prospecting', 'financial reporting', 'project delivery', 'operational excellence', 'standard operating procedures', 'technical knowledge', 'on-call', 'talent management', 'stakeholder management', 'tablets', 'analyze data', 'financial statements', 'microsoft office suite', 'fitness', 'case management', 'value proposition', 'industry trends', 'rfp', 'broadcast', 'portfolio management', 'fabrication', 'financial performance', 'customer requirements', 'psychology', 'marketing materials', 'resource management', 'physics', 'mortgage', 'development activities', 'end user', 'business planning', 'root cause', 'analysis', 'leadership development', 'relationship building', 'sdlc', 'on-boarding', 'quality standards', 'regulatory compliance', 'aws', 'kpi', 'status reports', 'product line', 'drafting', 'phone calls', 'product knowledge', 'business stakeholders', 'technical issues', 'admissions', 'supervisory experience', 'usability', 'pharmacy', 'commissioning', 'project plan', 'ms excel', 'fda', 'test plans', 'variances', 'financing', 'travel arrangements', 'internal customers', 'medical device', 'counsel', 'inventory management', 'performance metrics', 'lighting', 'outsourcing', 'performance improvement', 'management consulting', 'graphic design', 'transport', 'information management', '.net', 'startup', 'matrix', 'front-end', 'project planning', 'business systems', 'accounts receivable', 'public health', 'hris', 'instructional design', 'in-store', 'employee engagement', 'cost effective', 'sales management', 'api', 'adobe creative suite', 'twitter', 'program development', 'event planning', 'cash flow', 'strategic plans', 'vendor management', 'trade shows', 'hotels', 'segmentation', 'contract management', 'gis', 'talent acquisition', 'photography', 'internal communications', 'client services', 'ibm', 'financial reports', 'product quality', 'beverage', 'strong analytical skills', 'underwriting', 'cpr', 'mining', 'sales goals', 'chemicals', 'scripting', 'migration', 'software engineering', 'mis', 'therapeutic', 'general ledger', 'ms project', 'standardization', 'retention', 'spelling', 'media relations', 'os', 'daily operations', 'immigration', 'product design', 'etl', 'field sales', 'driving record', 'peoplesoft', 'benchmark', 'quality management', 'apis', 'test cases', 'internal controls', 'telecom', 'business issues', 'research projects', 'data quality', 'strategic initiatives', 'office software', 'cfa', 'co-op', 'big data', 'journal entries', 'vmware', 'help desk', 'statistical analysis', 'datasets', 'alliances', 'solidworks', 'prototype', 'lan', 'sci', 'budget management', 'rfps', 'flex', 'gaap', 'experimental', 'cpg', 'information system', 'customer facing', 'process development', 'web services', 'international', 'travel', 'revenue growth', 'software development life cycle', 'operations management', 'computer applications', 'risk assessments', 'sales operations', 'raw materials', 'internal audit', 'physical security', 'sql server', 'affiliate', 'computer software', 'manage projects', 'business continuity', 'litigation', 'it infrastructure', 'cost reduction', 'small business', 'annual budget', 'ios', 'html5', 'real-time', 'consulting experience', 'circuits', 'risk assessment', 'cross-functional team', 'public policy', 'analyzing data', 'consulting services', 'google drive', 'ad words', 'pay per click', 'email', 'db2', 'expense tracking', 'reports', 'wordpress', 'yoast', 'ghostwriting', 'corel draw', 'automated billing', 'system', 'customer management', 'debugging', 'system administration', 'network configuration', 'software installation', 'security', 'tech support', 'updates', 'tci/ip', 'dhcp', 'wan/lan', 'ubuntu', 'virtualized networks', 'network automation', 'cloud management', 'ai', 'salesforce', 'mango db', 'math', 'calculus', 'product launch', 'mvp']"
   ]
  },
  {
   "cell_type": "code",
   "execution_count": 24,
   "metadata": {},
   "outputs": [
    {
     "data": {
      "text/plain": [
       "1249"
      ]
     },
     "execution_count": 24,
     "metadata": {},
     "output_type": "execute_result"
    }
   ],
   "source": [
    "len(skills_db)"
   ]
  },
  {
   "cell_type": "code",
   "execution_count": 31,
   "metadata": {},
   "outputs": [
    {
     "name": "stdout",
     "output_type": "stream",
     "text": [
      "design\n",
      "process\n",
      "engineering\n",
      "process\n",
      "process\n",
      "engineering\n",
      "process\n",
      "engineering\n",
      "repairs\n",
      "design\n",
      "construction\n",
      "operations\n",
      "troubleshooting\n",
      "system\n",
      "staffing\n",
      "budget\n",
      "troubleshooting\n",
      "supervising\n",
      "electrical\n",
      "instrumentation\n",
      "automation\n",
      "controls\n",
      "distribution\n",
      "security\n",
      "installation\n",
      "design\n",
      "installation\n",
      "installation\n",
      "startup\n",
      "troubleshooting\n",
      "troubleshooting\n",
      "programming\n",
      "process\n",
      "regulations\n",
      "specifications\n",
      "design\n",
      "electrical\n",
      "assembly\n",
      "installation\n",
      "vendors\n",
      "installation\n",
      "controls\n",
      "contracts\n",
      "construction\n",
      "troubleshooting\n",
      "repairs\n",
      "installation\n",
      "automation\n",
      "programming\n",
      "operations\n",
      "engineering\n",
      "compliance\n",
      "regulations\n",
      "engineering\n",
      "distribution\n",
      "controls\n",
      "design\n",
      "analysis\n",
      "safety\n",
      "specifications\n",
      "inventory\n",
      "administration\n",
      "controls\n",
      "installation\n",
      "programming\n",
      "system\n",
      "database\n",
      "accounting\n",
      "troubleshooting\n",
      "system\n",
      "programming\n",
      "troubleshooting\n",
      "electrical\n",
      "controls\n",
      "troubleshooting\n",
      "electrical\n",
      "repairs\n",
      "assembly\n",
      "process\n",
      "troubleshooting\n",
      "distribution\n",
      "electrical\n",
      "repairs\n",
      "troubleshooting\n",
      "programming\n",
      "repairs\n",
      "inventory\n",
      "accounting\n",
      "automation\n",
      "budget\n",
      "hardware\n",
      "contracts\n",
      "database\n",
      "design\n",
      "construction\n",
      "electronics\n",
      "installation\n",
      "safety\n",
      "inventory\n",
      "inventory\n",
      "schedules\n",
      "programming\n",
      "distribution\n",
      "process\n",
      "process\n",
      "engineering\n",
      "repairs\n",
      "safety\n",
      "staffing\n",
      "supervising\n",
      "technical\n",
      "troubleshooting\n"
     ]
    }
   ],
   "source": [
    "### Extracting sklills \n",
    "\n",
    "skills = []\n",
    "\n",
    "for token in doc :\n",
    "    if token.text in skills_db :\n",
    "        skills.append(token.text)\n",
    "\n",
    "info[\"skills\"] = [skills]  ### appending to info \n",
    "print(*skills, sep=\"\\n\")"
   ]
  },
  {
   "cell_type": "markdown",
   "metadata": {},
   "source": [
    "### Extracting email"
   ]
  },
  {
   "cell_type": "code",
   "execution_count": 32,
   "metadata": {},
   "outputs": [],
   "source": [
    "def extract_email(org_text) : \n",
    "    epat = \"[\\w\\.-]+@[\\w\\.-]+\"\n",
    "    email = re.findall(epat, org_text)\n",
    "    return email\n",
    "\n",
    "info[\"email\"] = [extract_email(text)]"
   ]
  },
  {
   "cell_type": "markdown",
   "metadata": {},
   "source": [
    "### Extracting Phone "
   ]
  },
  {
   "cell_type": "code",
   "execution_count": 33,
   "metadata": {},
   "outputs": [],
   "source": [
    "def extract_phone(org_text) :\n",
    "    phpat = r\"(\\d{3}[-\\.\\s]??\\d{3}[-\\.\\s]??\\d{4}|\\d{3}\\s*\\d{3}[-\\.\\s]??\\d{4}|\\d{3}[-\\.\\s]??\\d{4})\"\n",
    "    ph = re.findall(phpat, org_text)\n",
    "    return ph \n",
    "\n",
    "info[\"phone\"] =[extract_phone(text)]"
   ]
  },
  {
   "cell_type": "markdown",
   "metadata": {},
   "source": [
    "### Extracting Experience "
   ]
  },
  {
   "cell_type": "code",
   "execution_count": 34,
   "metadata": {},
   "outputs": [],
   "source": [
    "def extract_exp(org_text) :\n",
    "    exp_pat = \"(?P<fmonth>\\w+.\\d+)\\s*(\\D|to)\\s*(?P<smonth>\\w+.\\d+|present)\"\n",
    "    exp = re.findall(exp_pat, org_text)\n",
    "    return exp\n",
    "\n",
    "\n",
    "info[\"experience\"] = [extract_exp(text)]\n"
   ]
  },
  {
   "cell_type": "code",
   "execution_count": 39,
   "metadata": {},
   "outputs": [
    {
     "data": {
      "text/plain": [
       "{'email': [[]],\n",
       " 'phone': [[]],\n",
       " 'experience': [[('Manager 02', '/', '2013'),\n",
       "   ('Superintendent 05', '/', '2008'),\n",
       "   ('Manager 05', '/', '2005'),\n",
       "   ('Supervisor 04', '/', '2004'),\n",
       "   ('Manager 01', '/', '1996'),\n",
       "   ('Technician 04', '/', '1995'),\n",
       "   ('Electrician 08', '/', '1991'),\n",
       "   ('Technician 02', '/', '1987')]],\n",
       " 'sklills': [['design',\n",
       "   'process',\n",
       "   'engineering',\n",
       "   'process',\n",
       "   'process',\n",
       "   'engineering',\n",
       "   'process',\n",
       "   'engineering',\n",
       "   'repairs',\n",
       "   'design',\n",
       "   'construction',\n",
       "   'operations',\n",
       "   'troubleshooting',\n",
       "   'system',\n",
       "   'staffing',\n",
       "   'budget',\n",
       "   'troubleshooting',\n",
       "   'supervising',\n",
       "   'electrical',\n",
       "   'instrumentation',\n",
       "   'automation',\n",
       "   'controls',\n",
       "   'distribution',\n",
       "   'security',\n",
       "   'installation',\n",
       "   'design',\n",
       "   'installation',\n",
       "   'installation',\n",
       "   'startup',\n",
       "   'troubleshooting',\n",
       "   'troubleshooting',\n",
       "   'programming',\n",
       "   'process',\n",
       "   'regulations',\n",
       "   'specifications',\n",
       "   'design',\n",
       "   'electrical',\n",
       "   'assembly',\n",
       "   'installation',\n",
       "   'vendors',\n",
       "   'installation',\n",
       "   'controls',\n",
       "   'contracts',\n",
       "   'construction',\n",
       "   'troubleshooting',\n",
       "   'repairs',\n",
       "   'installation',\n",
       "   'automation',\n",
       "   'programming',\n",
       "   'operations',\n",
       "   'engineering',\n",
       "   'compliance',\n",
       "   'regulations',\n",
       "   'engineering',\n",
       "   'distribution',\n",
       "   'controls',\n",
       "   'design',\n",
       "   'analysis',\n",
       "   'safety',\n",
       "   'specifications',\n",
       "   'inventory',\n",
       "   'administration',\n",
       "   'controls',\n",
       "   'installation',\n",
       "   'programming',\n",
       "   'system',\n",
       "   'database',\n",
       "   'accounting',\n",
       "   'troubleshooting',\n",
       "   'system',\n",
       "   'programming',\n",
       "   'troubleshooting',\n",
       "   'electrical',\n",
       "   'controls',\n",
       "   'troubleshooting',\n",
       "   'electrical',\n",
       "   'repairs',\n",
       "   'assembly',\n",
       "   'process',\n",
       "   'troubleshooting',\n",
       "   'distribution',\n",
       "   'electrical',\n",
       "   'repairs',\n",
       "   'troubleshooting',\n",
       "   'programming',\n",
       "   'repairs',\n",
       "   'inventory',\n",
       "   'accounting',\n",
       "   'automation',\n",
       "   'budget',\n",
       "   'hardware',\n",
       "   'contracts',\n",
       "   'database',\n",
       "   'design',\n",
       "   'construction',\n",
       "   'electronics',\n",
       "   'installation',\n",
       "   'safety',\n",
       "   'inventory',\n",
       "   'inventory',\n",
       "   'schedules',\n",
       "   'programming',\n",
       "   'distribution',\n",
       "   'process',\n",
       "   'process',\n",
       "   'engineering',\n",
       "   'repairs',\n",
       "   'safety',\n",
       "   'staffing',\n",
       "   'supervising',\n",
       "   'technical',\n",
       "   'troubleshooting']]}"
      ]
     },
     "execution_count": 39,
     "metadata": {},
     "output_type": "execute_result"
    }
   ],
   "source": [
    "info"
   ]
  },
  {
   "cell_type": "markdown",
   "metadata": {},
   "source": [
    "### Upto you"
   ]
  },
  {
   "cell_type": "code",
   "execution_count": 15,
   "metadata": {},
   "outputs": [
    {
     "data": {
      "text/plain": [
       "1"
      ]
     },
     "execution_count": 15,
     "metadata": {},
     "output_type": "execute_result"
    }
   ],
   "source": [
    "len(info[\"experience\"])\n"
   ]
  },
  {
   "cell_type": "code",
   "execution_count": 17,
   "metadata": {},
   "outputs": [
    {
     "data": {
      "text/plain": [
       "1"
      ]
     },
     "execution_count": 17,
     "metadata": {},
     "output_type": "execute_result"
    }
   ],
   "source": [
    "len(info[\"email\"])"
   ]
  },
  {
   "cell_type": "code",
   "execution_count": 140,
   "metadata": {},
   "outputs": [
    {
     "data": {
      "text/plain": [
       "1"
      ]
     },
     "execution_count": 140,
     "metadata": {},
     "output_type": "execute_result"
    }
   ],
   "source": [
    "len(info[\"sklills\"])"
   ]
  },
  {
   "cell_type": "code",
   "execution_count": 25,
   "metadata": {},
   "outputs": [],
   "source": [
    "import gensim\n",
    "import pandas as pd"
   ]
  },
  {
   "cell_type": "code",
   "execution_count": 26,
   "metadata": {},
   "outputs": [
    {
     "data": {
      "text/plain": [
       "3"
      ]
     },
     "execution_count": 26,
     "metadata": {},
     "output_type": "execute_result"
    }
   ],
   "source": [
    "len(info)"
   ]
  },
  {
   "cell_type": "code",
   "execution_count": 40,
   "metadata": {},
   "outputs": [
    {
     "data": {
      "text/plain": [
       "{'email': [[]],\n",
       " 'phone': [[]],\n",
       " 'experience': [[('Manager 02', '/', '2013'),\n",
       "   ('Superintendent 05', '/', '2008'),\n",
       "   ('Manager 05', '/', '2005'),\n",
       "   ('Supervisor 04', '/', '2004'),\n",
       "   ('Manager 01', '/', '1996'),\n",
       "   ('Technician 04', '/', '1995'),\n",
       "   ('Electrician 08', '/', '1991'),\n",
       "   ('Technician 02', '/', '1987')]],\n",
       " 'sklills': [['design',\n",
       "   'process',\n",
       "   'engineering',\n",
       "   'process',\n",
       "   'process',\n",
       "   'engineering',\n",
       "   'process',\n",
       "   'engineering',\n",
       "   'repairs',\n",
       "   'design',\n",
       "   'construction',\n",
       "   'operations',\n",
       "   'troubleshooting',\n",
       "   'system',\n",
       "   'staffing',\n",
       "   'budget',\n",
       "   'troubleshooting',\n",
       "   'supervising',\n",
       "   'electrical',\n",
       "   'instrumentation',\n",
       "   'automation',\n",
       "   'controls',\n",
       "   'distribution',\n",
       "   'security',\n",
       "   'installation',\n",
       "   'design',\n",
       "   'installation',\n",
       "   'installation',\n",
       "   'startup',\n",
       "   'troubleshooting',\n",
       "   'troubleshooting',\n",
       "   'programming',\n",
       "   'process',\n",
       "   'regulations',\n",
       "   'specifications',\n",
       "   'design',\n",
       "   'electrical',\n",
       "   'assembly',\n",
       "   'installation',\n",
       "   'vendors',\n",
       "   'installation',\n",
       "   'controls',\n",
       "   'contracts',\n",
       "   'construction',\n",
       "   'troubleshooting',\n",
       "   'repairs',\n",
       "   'installation',\n",
       "   'automation',\n",
       "   'programming',\n",
       "   'operations',\n",
       "   'engineering',\n",
       "   'compliance',\n",
       "   'regulations',\n",
       "   'engineering',\n",
       "   'distribution',\n",
       "   'controls',\n",
       "   'design',\n",
       "   'analysis',\n",
       "   'safety',\n",
       "   'specifications',\n",
       "   'inventory',\n",
       "   'administration',\n",
       "   'controls',\n",
       "   'installation',\n",
       "   'programming',\n",
       "   'system',\n",
       "   'database',\n",
       "   'accounting',\n",
       "   'troubleshooting',\n",
       "   'system',\n",
       "   'programming',\n",
       "   'troubleshooting',\n",
       "   'electrical',\n",
       "   'controls',\n",
       "   'troubleshooting',\n",
       "   'electrical',\n",
       "   'repairs',\n",
       "   'assembly',\n",
       "   'process',\n",
       "   'troubleshooting',\n",
       "   'distribution',\n",
       "   'electrical',\n",
       "   'repairs',\n",
       "   'troubleshooting',\n",
       "   'programming',\n",
       "   'repairs',\n",
       "   'inventory',\n",
       "   'accounting',\n",
       "   'automation',\n",
       "   'budget',\n",
       "   'hardware',\n",
       "   'contracts',\n",
       "   'database',\n",
       "   'design',\n",
       "   'construction',\n",
       "   'electronics',\n",
       "   'installation',\n",
       "   'safety',\n",
       "   'inventory',\n",
       "   'inventory',\n",
       "   'schedules',\n",
       "   'programming',\n",
       "   'distribution',\n",
       "   'process',\n",
       "   'process',\n",
       "   'engineering',\n",
       "   'repairs',\n",
       "   'safety',\n",
       "   'staffing',\n",
       "   'supervising',\n",
       "   'technical',\n",
       "   'troubleshooting']]}"
      ]
     },
     "execution_count": 40,
     "metadata": {},
     "output_type": "execute_result"
    }
   ],
   "source": [
    "info"
   ]
  },
  {
   "cell_type": "code",
   "execution_count": 41,
   "metadata": {},
   "outputs": [
    {
     "data": {
      "text/html": [
       "<div>\n",
       "<style scoped>\n",
       "    .dataframe tbody tr th:only-of-type {\n",
       "        vertical-align: middle;\n",
       "    }\n",
       "\n",
       "    .dataframe tbody tr th {\n",
       "        vertical-align: top;\n",
       "    }\n",
       "\n",
       "    .dataframe thead th {\n",
       "        text-align: right;\n",
       "    }\n",
       "</style>\n",
       "<table border=\"1\" class=\"dataframe\">\n",
       "  <thead>\n",
       "    <tr style=\"text-align: right;\">\n",
       "      <th></th>\n",
       "      <th>0</th>\n",
       "      <th>1</th>\n",
       "      <th>2</th>\n",
       "      <th>3</th>\n",
       "      <th>4</th>\n",
       "      <th>5</th>\n",
       "      <th>6</th>\n",
       "      <th>7</th>\n",
       "      <th>8</th>\n",
       "      <th>9</th>\n",
       "      <th>...</th>\n",
       "      <th>102</th>\n",
       "      <th>103</th>\n",
       "      <th>104</th>\n",
       "      <th>105</th>\n",
       "      <th>106</th>\n",
       "      <th>107</th>\n",
       "      <th>108</th>\n",
       "      <th>109</th>\n",
       "      <th>110</th>\n",
       "      <th>111</th>\n",
       "    </tr>\n",
       "  </thead>\n",
       "  <tbody>\n",
       "    <tr>\n",
       "      <th>0</th>\n",
       "      <td>design</td>\n",
       "      <td>process</td>\n",
       "      <td>engineering</td>\n",
       "      <td>process</td>\n",
       "      <td>process</td>\n",
       "      <td>engineering</td>\n",
       "      <td>process</td>\n",
       "      <td>engineering</td>\n",
       "      <td>repairs</td>\n",
       "      <td>design</td>\n",
       "      <td>...</td>\n",
       "      <td>distribution</td>\n",
       "      <td>process</td>\n",
       "      <td>process</td>\n",
       "      <td>engineering</td>\n",
       "      <td>repairs</td>\n",
       "      <td>safety</td>\n",
       "      <td>staffing</td>\n",
       "      <td>supervising</td>\n",
       "      <td>technical</td>\n",
       "      <td>troubleshooting</td>\n",
       "    </tr>\n",
       "  </tbody>\n",
       "</table>\n",
       "<p>1 rows × 112 columns</p>\n",
       "</div>"
      ],
      "text/plain": [
       "      0        1            2        3        4            5        6    \\\n",
       "0  design  process  engineering  process  process  engineering  process   \n",
       "\n",
       "           7        8       9    ...           102      103      104  \\\n",
       "0  engineering  repairs  design  ...  distribution  process  process   \n",
       "\n",
       "           105      106     107       108          109        110  \\\n",
       "0  engineering  repairs  safety  staffing  supervising  technical   \n",
       "\n",
       "               111  \n",
       "0  troubleshooting  \n",
       "\n",
       "[1 rows x 112 columns]"
      ]
     },
     "execution_count": 41,
     "metadata": {},
     "output_type": "execute_result"
    }
   ],
   "source": [
    "df = pd.DataFrame(info[\"sklills\"])\n",
    "df"
   ]
  },
  {
   "cell_type": "code",
   "execution_count": 36,
   "metadata": {},
   "outputs": [],
   "source": [
    "model = gensim.models.Word2Vec(\n",
    "    window=10,\n",
    "    min_count =1,\n",
    "    workers=2\n",
    ")"
   ]
  },
  {
   "cell_type": "code",
   "execution_count": 37,
   "metadata": {},
   "outputs": [
    {
     "ename": "AttributeError",
     "evalue": "'DataFrame' object has no attribute 'sklills'",
     "output_type": "error",
     "traceback": [
      "\u001b[1;31m---------------------------------------------------------------------------\u001b[0m",
      "\u001b[1;31mAttributeError\u001b[0m                            Traceback (most recent call last)",
      "\u001b[1;32m~\\AppData\\Local\\Temp/ipykernel_6164/727110403.py\u001b[0m in \u001b[0;36m<module>\u001b[1;34m\u001b[0m\n\u001b[1;32m----> 1\u001b[1;33m \u001b[0mmodel\u001b[0m\u001b[1;33m.\u001b[0m\u001b[0mbuild_vocab\u001b[0m\u001b[1;33m(\u001b[0m\u001b[0mdf\u001b[0m\u001b[1;33m.\u001b[0m\u001b[0msklills\u001b[0m\u001b[1;33m,\u001b[0m\u001b[0mprogress_per\u001b[0m\u001b[1;33m=\u001b[0m\u001b[1;36m1000\u001b[0m\u001b[1;33m)\u001b[0m\u001b[1;33m\u001b[0m\u001b[1;33m\u001b[0m\u001b[0m\n\u001b[0m",
      "\u001b[1;32m~\\anaconda3\\lib\\site-packages\\pandas\\core\\generic.py\u001b[0m in \u001b[0;36m__getattr__\u001b[1;34m(self, name)\u001b[0m\n\u001b[0;32m   5485\u001b[0m         ):\n\u001b[0;32m   5486\u001b[0m             \u001b[1;32mreturn\u001b[0m \u001b[0mself\u001b[0m\u001b[1;33m[\u001b[0m\u001b[0mname\u001b[0m\u001b[1;33m]\u001b[0m\u001b[1;33m\u001b[0m\u001b[1;33m\u001b[0m\u001b[0m\n\u001b[1;32m-> 5487\u001b[1;33m         \u001b[1;32mreturn\u001b[0m \u001b[0mobject\u001b[0m\u001b[1;33m.\u001b[0m\u001b[0m__getattribute__\u001b[0m\u001b[1;33m(\u001b[0m\u001b[0mself\u001b[0m\u001b[1;33m,\u001b[0m \u001b[0mname\u001b[0m\u001b[1;33m)\u001b[0m\u001b[1;33m\u001b[0m\u001b[1;33m\u001b[0m\u001b[0m\n\u001b[0m\u001b[0;32m   5488\u001b[0m \u001b[1;33m\u001b[0m\u001b[0m\n\u001b[0;32m   5489\u001b[0m     \u001b[1;32mdef\u001b[0m \u001b[0m__setattr__\u001b[0m\u001b[1;33m(\u001b[0m\u001b[0mself\u001b[0m\u001b[1;33m,\u001b[0m \u001b[0mname\u001b[0m\u001b[1;33m:\u001b[0m \u001b[0mstr\u001b[0m\u001b[1;33m,\u001b[0m \u001b[0mvalue\u001b[0m\u001b[1;33m)\u001b[0m \u001b[1;33m->\u001b[0m \u001b[1;32mNone\u001b[0m\u001b[1;33m:\u001b[0m\u001b[1;33m\u001b[0m\u001b[1;33m\u001b[0m\u001b[0m\n",
      "\u001b[1;31mAttributeError\u001b[0m: 'DataFrame' object has no attribute 'sklills'"
     ]
    }
   ],
   "source": [
    "model.build_vocab(df.sklills,progress_per=1000)"
   ]
  },
  {
   "cell_type": "code",
   "execution_count": null,
   "metadata": {},
   "outputs": [],
   "source": [
    "model.epochs"
   ]
  },
  {
   "cell_type": "code",
   "execution_count": 164,
   "metadata": {},
   "outputs": [
    {
     "data": {
      "text/plain": [
       "1"
      ]
     },
     "execution_count": 164,
     "metadata": {},
     "output_type": "execute_result"
    }
   ],
   "source": [
    "model.corpus_count"
   ]
  },
  {
   "cell_type": "code",
   "execution_count": 165,
   "metadata": {},
   "outputs": [
    {
     "data": {
      "text/plain": [
       "(118, 560)"
      ]
     },
     "execution_count": 165,
     "metadata": {},
     "output_type": "execute_result"
    }
   ],
   "source": [
    "model.train(df.sklills, total_examples=model.corpus_count, epochs=model.epochs)"
   ]
  },
  {
   "cell_type": "markdown",
   "metadata": {},
   "source": [
    "model.save(\"./project-done.model\")"
   ]
  },
  {
   "cell_type": "code",
   "execution_count": 1,
   "metadata": {},
   "outputs": [
    {
     "ename": "NameError",
     "evalue": "name 'df' is not defined",
     "output_type": "error",
     "traceback": [
      "\u001b[1;31m---------------------------------------------------------------------------\u001b[0m",
      "\u001b[1;31mNameError\u001b[0m                                 Traceback (most recent call last)",
      "\u001b[1;32m~\\AppData\\Local\\Temp/ipykernel_6164/2013773738.py\u001b[0m in \u001b[0;36m<module>\u001b[1;34m\u001b[0m\n\u001b[0;32m      1\u001b[0m \u001b[0mlst\u001b[0m\u001b[1;33m=\u001b[0m\u001b[1;33m[\u001b[0m\u001b[1;33m]\u001b[0m\u001b[1;33m\u001b[0m\u001b[1;33m\u001b[0m\u001b[0m\n\u001b[0;32m      2\u001b[0m \u001b[0ms\u001b[0m\u001b[1;33m=\u001b[0m\u001b[1;34m\"data\"\u001b[0m\u001b[1;33m\u001b[0m\u001b[1;33m\u001b[0m\u001b[0m\n\u001b[1;32m----> 3\u001b[1;33m \u001b[1;32mfor\u001b[0m \u001b[0mi\u001b[0m \u001b[1;32min\u001b[0m \u001b[0mdf\u001b[0m\u001b[1;33m.\u001b[0m\u001b[0msklills\u001b[0m\u001b[1;33m[\u001b[0m\u001b[1;36m0\u001b[0m\u001b[1;33m]\u001b[0m\u001b[1;33m:\u001b[0m\u001b[1;33m\u001b[0m\u001b[1;33m\u001b[0m\u001b[0m\n\u001b[0m\u001b[0;32m      4\u001b[0m \u001b[1;33m\u001b[0m\u001b[0m\n\u001b[0;32m      5\u001b[0m     \u001b[0mp\u001b[0m\u001b[1;33m=\u001b[0m\u001b[0mmodel\u001b[0m\u001b[1;33m.\u001b[0m\u001b[0mwv\u001b[0m\u001b[1;33m.\u001b[0m\u001b[0msimilarity\u001b[0m\u001b[1;33m(\u001b[0m\u001b[0mw1\u001b[0m\u001b[1;33m=\u001b[0m\u001b[0mi\u001b[0m\u001b[1;33m,\u001b[0m \u001b[0mw2\u001b[0m\u001b[1;33m=\u001b[0m\u001b[0ms\u001b[0m\u001b[1;33m)\u001b[0m\u001b[1;33m\u001b[0m\u001b[1;33m\u001b[0m\u001b[0m\n",
      "\u001b[1;31mNameError\u001b[0m: name 'df' is not defined"
     ]
    }
   ],
   "source": [
    "lst=[]\n",
    "s=\"data\"\n",
    "for i in df.sklills[0]:\n",
    "   \n",
    "    p=model.wv.similarity(w1=i, w2=s)\n",
    "    lst.append(p)\n",
    "    \n",
    "avg=sum(lst)/len(lst)\n",
    "avg"
   ]
  },
  {
   "cell_type": "code",
   "execution_count": null,
   "metadata": {},
   "outputs": [],
   "source": []
  }
 ],
 "metadata": {
  "kernelspec": {
   "display_name": "Python 3 (ipykernel)",
   "language": "python",
   "name": "python3"
  },
  "language_info": {
   "codemirror_mode": {
    "name": "ipython",
    "version": 3
   },
   "file_extension": ".py",
   "mimetype": "text/x-python",
   "name": "python",
   "nbconvert_exporter": "python",
   "pygments_lexer": "ipython3",
   "version": "3.9.7"
  }
 },
 "nbformat": 4,
 "nbformat_minor": 2
}
